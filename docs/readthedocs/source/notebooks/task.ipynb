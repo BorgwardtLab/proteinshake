{
 "cells": [
  {
   "attachments": {},
   "cell_type": "markdown",
   "id": "cbe480e2",
   "metadata": {
    "id": "cbe480e2"
   },
   "source": [
    "# Training and evaluating a model\n",
    "\n",
    "[<img src=\"https://colab.research.google.com/assets/colab-badge.svg\">](https://colab.research.google.com/github/BorgwardtLab/proteinshake/blob/main/docs/readthedocs/source/notebooks/task.ipynb)\n",
    "\n",
    "This tutorial demonstrates how to train a graph neural network (GNN) with ProteinShake and [Pytorch Geometric](https://pytorch-geometric.readthedocs.io/) for enzyme commission number prediction. You can adapt the code for any downstream tasks provided by ProteinShake.\n",
    "\n",
    "We will use a simple GNN model, namely [GCN](https://arxiv.org/abs/1609.02907). The model can be trained with either CPU or GPU, but GPU is recommended for faster computation."
   ]
  },
  {
   "cell_type": "markdown",
   "id": "9105a3b5",
   "metadata": {
    "id": "9105a3b5"
   },
   "source": [
    "If you are using colab, then uncomment and run the cell below. "
   ]
  },
  {
   "cell_type": "code",
   "execution_count": 1,
   "id": "c8edf3f8",
   "metadata": {
    "colab": {
     "base_uri": "https://localhost:8080/"
    },
    "id": "c8edf3f8",
    "outputId": "cd20d77a-f908-413d-ed16-75f9fbfd468f"
   },
   "outputs": [],
   "source": [
    "# !pip install proteinshake torch torch_geometric tqdm\n",
    "\n",
    "from proteinshake.tasks import EnzymeClassTask\n",
    "\n",
    "import torch\n",
    "from torch.nn import Module, Embedding, BatchNorm1d, Linear, CrossEntropyLoss\n",
    "from torch.optim import AdamW\n",
    "from torch_geometric.loader import DataLoader\n",
    "from torch_geometric.nn.conv import GCNConv\n",
    "from torch_geometric.nn import global_mean_pool\n",
    "from tqdm import tqdm\n",
    "import copy"
   ]
  },
  {
   "attachments": {},
   "cell_type": "markdown",
   "id": "485cbe99",
   "metadata": {
    "id": "485cbe99"
   },
   "source": [
    "## Load the task and the dataset\n",
    "\n",
    "We use the `EnzymeCommissionTask` from ProteinShake and convert the protein structures to epsilon-graphs (epsilon=8). The graphs are then converted to PyTorch Geometric `Data` objects. To assign the appropriate attributes (the class label) to the `Data` object, we write a transform:"
   ]
  },
  {
   "cell_type": "code",
   "execution_count": 2,
   "id": "5dcd8784",
   "metadata": {
    "id": "5dcd8784"
   },
   "outputs": [],
   "source": [
    "def my_transform(data):\n",
    "    data, protein_dict = data\n",
    "    data.y = task.target(protein_dict)\n",
    "    return data\n",
    "\n",
    "task = EnzymeClassTask(root='ec_prediction').to_graph(eps=8.0).pyg(transform=my_transform)"
   ]
  },
  {
   "attachments": {},
   "cell_type": "markdown",
   "id": "2b530081",
   "metadata": {},
   "source": [
    "That's all you need to load your data! The rest is implementing a model and training."
   ]
  },
  {
   "cell_type": "markdown",
   "id": "1728675a",
   "metadata": {
    "id": "1728675a"
   },
   "source": [
    "## Load train/val/test splits"
   ]
  },
  {
   "cell_type": "markdown",
   "id": "3ef6755d",
   "metadata": {
    "id": "3ef6755d"
   },
   "source": [
    "We can now create data loaders for train/val/test sets provided by ProteinShake:"
   ]
  },
  {
   "cell_type": "code",
   "execution_count": 3,
   "id": "71341596",
   "metadata": {
    "id": "71341596"
   },
   "outputs": [],
   "source": [
    "train_loader = DataLoader(task.train, batch_size=100, shuffle=True)\n",
    "val_loader = DataLoader(task.val, batch_size=100, shuffle=True)\n",
    "test_loader = DataLoader(task.test, batch_size=100, shuffle=True)"
   ]
  },
  {
   "attachments": {},
   "cell_type": "markdown",
   "id": "1e9d72ff",
   "metadata": {
    "id": "1e9d72ff"
   },
   "source": [
    "## Build a GNN model"
   ]
  },
  {
   "attachments": {},
   "cell_type": "markdown",
   "id": "434194bc",
   "metadata": {
    "id": "434194bc"
   },
   "source": [
    "Here, we create a simple GNN model for this task, namely a [GCN](https://arxiv.org/abs/1609.02907)."
   ]
  },
  {
   "cell_type": "code",
   "execution_count": 4,
   "id": "a98aa1df",
   "metadata": {
    "id": "a98aa1df"
   },
   "outputs": [],
   "source": [
    "class Model(Module):\n",
    "\n",
    "    def __init__(self, num_classes, dim=256):\n",
    "        super().__init__()\n",
    "        self.embedding = Embedding(20, dim)\n",
    "        self.gcn1 = GCNConv(dim,dim)\n",
    "        self.bn1 = BatchNorm1d(dim)\n",
    "        self.gcn2 = GCNConv(dim,dim)\n",
    "        self.bn2 = BatchNorm1d(dim)\n",
    "        self.pool = global_mean_pool\n",
    "        self.classifier = Linear(dim, num_classes)\n",
    "\n",
    "    def forward(self, data):\n",
    "        x, edge_index, batch = data.x, data.edge_index, data.batch\n",
    "        x = self.embedding(x)\n",
    "        x = self.gcn1(x, edge_index)\n",
    "        x = self.bn1(x)\n",
    "        x = self.gcn2(x, edge_index)\n",
    "        x = self.bn2(x)\n",
    "        x = self.pool(x, batch)\n",
    "        return self.classifier(x)"
   ]
  },
  {
   "attachments": {},
   "cell_type": "markdown",
   "id": "bb2bb8fd",
   "metadata": {
    "id": "bb2bb8fd"
   },
   "source": [
    "We build the model and define some learning parameters:"
   ]
  },
  {
   "cell_type": "code",
   "execution_count": 5,
   "id": "4d98a9ec",
   "metadata": {
    "id": "4d98a9ec"
   },
   "outputs": [],
   "source": [
    "model = Model(task.num_classes)\n",
    "optimizer = AdamW(model.parameters(), lr=0.001)\n",
    "criterion = CrossEntropyLoss()\n",
    "device = torch.device(torch.cuda.current_device()) if torch.cuda.is_available() else torch.device('cpu')"
   ]
  },
  {
   "attachments": {},
   "cell_type": "markdown",
   "id": "6715532c",
   "metadata": {},
   "source": [
    "Now let's define a simple training loop:"
   ]
  },
  {
   "cell_type": "code",
   "execution_count": 6,
   "id": "3c86de08",
   "metadata": {
    "id": "3c86de08"
   },
   "outputs": [],
   "source": [
    "def train_epoch(model, loader):\n",
    "    model.train()\n",
    "\n",
    "    running_loss = 0.\n",
    "    for step, batch in enumerate(loader):\n",
    "        size = len(batch.y)\n",
    "        batch = batch.to(device)\n",
    "\n",
    "        optimizer.zero_grad()\n",
    "        y_hat = model(batch)\n",
    "\n",
    "        loss = criterion(y_hat, batch.y)\n",
    "\n",
    "        loss.backward()\n",
    "        optimizer.step()\n",
    "\n",
    "        running_loss += loss.item() * size\n",
    "\n",
    "    n_sample = len(loader.dataset)\n",
    "    epoch_loss = running_loss / n_sample\n",
    "    return epoch_loss"
   ]
  },
  {
   "attachments": {},
   "cell_type": "markdown",
   "id": "QFxR97Z1MtCY",
   "metadata": {
    "id": "QFxR97Z1MtCY"
   },
   "source": [
    "ProteinShake provides an evaluation function for each task. We will use it to write an evaluation loop:"
   ]
  },
  {
   "cell_type": "code",
   "execution_count": 7,
   "id": "ccaf9787",
   "metadata": {
    "id": "ccaf9787"
   },
   "outputs": [],
   "source": [
    "@torch.no_grad()\n",
    "def eval_epoch(model, loader, targets):\n",
    "    model.eval()\n",
    "    y_pred = []\n",
    "\n",
    "    for step, batch in enumerate(loader):\n",
    "        batch = batch.to(device)\n",
    "        y_hat = model(batch)\n",
    "        y_pred.append(y_hat.cpu())\n",
    "\n",
    "    y_pred = torch.vstack(y_pred).numpy()\n",
    "    y_pred = y_pred.argmax(-1)\n",
    "    scores = task.evaluate(targets, y_pred) # ProteinShake provides you with appropriate metrics for the task\n",
    "    return scores"
   ]
  },
  {
   "attachments": {},
   "cell_type": "markdown",
   "id": "63f4171e",
   "metadata": {
    "id": "63f4171e"
   },
   "source": [
    "## Training\n",
    "\n",
    "Time for the actual model training:"
   ]
  },
  {
   "cell_type": "code",
   "execution_count": 10,
   "id": "fd5b2f3f",
   "metadata": {
    "colab": {
     "base_uri": "https://localhost:8080/"
    },
    "id": "fd5b2f3f",
    "outputId": "427861ed-c582-46ea-d03e-5273c3506c22"
   },
   "outputs": [
    {
     "name": "stderr",
     "output_type": "stream",
     "text": [
      "100%|██████████| 1/1 [00:49<00:00, 49.96s/it, train_loss=1.37, val_acc=0.299]\n"
     ]
    },
    {
     "data": {
      "text/plain": [
       "<All keys matched successfully>"
      ]
     },
     "execution_count": 10,
     "metadata": {},
     "output_type": "execute_result"
    }
   ],
   "source": [
    "model.to(device)\n",
    "epochs = 1 # we train only 1 epoch here, but more epochs may result in better performance.\n",
    "\n",
    "best_val_score = 0.0\n",
    "pbar = tqdm(range(epochs))\n",
    "for epoch in pbar:\n",
    "    train_loss = train_epoch(model, train_loader)\n",
    "    val_scores = eval_epoch(model, val_loader, task.val_targets)\n",
    "    val_score = val_scores['accuracy']\n",
    "    postfix = {'train_loss': train_loss, 'val_acc': val_score}\n",
    "    pbar.set_postfix(postfix)\n",
    "    \n",
    "    if val_score > best_val_score:\n",
    "        best_val_score = val_score\n",
    "        best_weights = copy.deepcopy(model.state_dict())\n",
    "\n",
    "model.load_state_dict(best_weights)"
   ]
  },
  {
   "attachments": {},
   "cell_type": "markdown",
   "id": "VCCA1ecgJwm2",
   "metadata": {
    "id": "VCCA1ecgJwm2"
   },
   "source": [
    "## Testing the trained model\n",
    "\n",
    "How good is the model? Certainly this is not a state-of-the-art performance, but you get the idea."
   ]
  },
  {
   "cell_type": "code",
   "execution_count": 11,
   "id": "uFijiPBoJ2cB",
   "metadata": {
    "colab": {
     "base_uri": "https://localhost:8080/"
    },
    "id": "uFijiPBoJ2cB",
    "outputId": "c5d93d42-3bc2-4b14-f013-d5915f02c2ae"
   },
   "outputs": [
    {
     "name": "stdout",
     "output_type": "stream",
     "text": [
      "{'precision': 0.11018509385404471, 'recall': 0.1342314815316218, 'accuracy': 0.3175416133162612}\n"
     ]
    }
   ],
   "source": [
    "test_scores = eval_epoch(model, test_loader, task.test_targets)\n",
    "print(test_scores)"
   ]
  }
 ],
 "metadata": {
  "accelerator": "GPU",
  "colab": {
   "provenance": []
  },
  "gpuClass": "standard",
  "kernelspec": {
   "display_name": "venv",
   "language": "python",
   "name": "python3"
  },
  "language_info": {
   "codemirror_mode": {
    "name": "ipython",
    "version": 3
   },
   "file_extension": ".py",
   "mimetype": "text/x-python",
   "name": "python",
   "nbconvert_exporter": "python",
   "pygments_lexer": "ipython3",
   "version": "3.9.6"
  },
  "vscode": {
   "interpreter": {
    "hash": "2a36319596c8b85aa3a33b7572e0064796912a6e6e60d26f47e4d35330b02900"
   }
  }
 },
 "nbformat": 4,
 "nbformat_minor": 5
}
