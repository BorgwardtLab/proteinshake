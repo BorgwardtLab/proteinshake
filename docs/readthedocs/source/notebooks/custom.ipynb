{
 "cells": [
  {
   "attachments": {},
   "cell_type": "markdown",
   "metadata": {},
   "source": [
    "# Custom datasets and tasks\n",
    "\n",
    "\n",
    "[<img src=\"https://colab.research.google.com/assets/colab-badge.svg\">](https://colab.research.google.com/github/BorgwardtLab/proteinshake/blob/main/docs/readthedocs/source/notebooks/custom.ipynb)\n",
    "\n",
    "## Custom Dataset\n",
    "\n",
    "The `Dataset` object logic takes care of two major steps: (i) downloading the raw PDBs from a source database, and (ii) annotating each protein, possibly from another source.\n",
    "These are the only steps you need to implement. All other downstream work (parsing, cleaning, representation, frameworks) is provided by ProteinShake and can be re-used. This makes customizing the datasets very simple.\n",
    "\n",
    "Here is an example of how you can create a custom dataset in a situation where you have your own annotations on a file that looks like this:\n",
    "\n",
    "```\n",
    "pdbid | annotation\n",
    "-----------------\n",
    "3ONJ  |   0.1\n",
    "2DMW  |   0.7\n",
    "2MOF  |   0.4\n",
    "...\n",
    "```\n",
    "\n",
    "Each row corresponds to a protein that is hosted in the RCSB Databank so we can subclass the `RCSBDataset` object and add our own annotations:"
   ]
  },
  {
   "cell_type": "code",
   "execution_count": 1,
   "metadata": {},
   "outputs": [],
   "source": [
    "import pandas as pd\n",
    "from proteinshake.datasets import RCSBDataset\n",
    "\n",
    "class MyDataset(RCSBDataset):\n",
    "    \n",
    "    def __init__(self, *args, **kwargs):\n",
    "        # We can load the following file also from a local path or a remote server\n",
    "        self.annotations = {'3ONJ': 0.1, '2DMW': 0.7, '2MOF': 0.4, '3NHA': 0.3, '2X27': 0.9, '3NHB': 0.2, '5GV0': 0.5, '1H8M': 0.9, '1IOU': 0.4, '2UWR': 0.6}\n",
    "        pdb_ids = list(self.annotations.keys())\n",
    "        super().__init__(from_list=pdb_ids, *args, **kwargs)\n",
    "\n",
    "    def add_protein_attributes(self, protein):\n",
    "        \"\"\" Store annotation in downloaded protein object\n",
    "        \"\"\"\n",
    "        protein['protein']['my_annotation'] = self.annotations[protein['protein']['ID']]\n",
    "        return protein"
   ]
  },
  {
   "attachments": {},
   "cell_type": "markdown",
   "metadata": {},
   "source": [
    "Now you can use the same functionality as the hosted datasets."
   ]
  },
  {
   "attachments": {},
   "cell_type": "markdown",
   "metadata": {},
   "source": [
    "## Custom Task\n",
    "\n",
    "The `Task` object defines four major components: (i) the base dataset, (ii) the prediction target, (iii) train/validation/test splits, and (iv) prediction evaluation.\n",
    "\n",
    "This is a template for a fully customized task:"
   ]
  },
  {
   "cell_type": "code",
   "execution_count": 2,
   "metadata": {},
   "outputs": [],
   "source": [
    "from proteinshake.tasks import Task\n",
    "from proteinshake.datasets import RCSBDataset\n",
    "from sklearn.metrics import mean_squared_error\n",
    "from sklearn.model_selection import train_test_split\n",
    "\n",
    "\n",
    "class MyTask(Task):\n",
    "\n",
    "    \"\"\" This static attribute needs to correspond to a\n",
    "        proteinshake dataset from our hosted datasets\n",
    "        or one that you created yourself\n",
    "    \"\"\"\n",
    "    DatasetClass = MyDataset\n",
    "\n",
    "    def target(self, protein):\n",
    "        \"\"\" Accepts a protein dictionary and\n",
    "            returns the prediction target for that protein.\n",
    "            This can accept pairs of proteins or other objects\n",
    "            depending on the task.\n",
    "        \"\"\" \n",
    "        return protein['protein']['my_annotation']\n",
    "\n",
    "                    \n",
    "    def compute_custom_split(self, split_type):\n",
    "        \"\"\" Let's implement a simple random split.\n",
    "        \"\"\"\n",
    "        train_index, valtest = train_test_split(range(self.size), test_size=0.4, random_state=0)\n",
    "        val_index, test_index = train_test_split(valtest, test_size=0.5, random_state=0)\n",
    "        return train_index, val_index, test_index\n",
    "\n",
    "    def evaluate(self, y_true, y_pred):\n",
    "        \"\"\" Accepts a list of model outputs and returns \n",
    "            a dictionary containing evaluation\n",
    "            metrics. By convention, `y_pred`\n",
    "            is a list of values where each item corresponds\n",
    "            to a prediction on one item of the test set.\n",
    "            `y_true` can be task.test_targets, task.val_targets,\n",
    "            or any custom provided values.\n",
    "        \"\"\"\n",
    "        return {'mse': mean_squared_error(y_true, y_pred)}"
   ]
  },
  {
   "attachments": {},
   "cell_type": "markdown",
   "metadata": {},
   "source": [
    "Now you (and others) can use your task like the following. We need `use_precomputed=False` here, as the task is not (yet) hosted on the ProteinShake database."
   ]
  },
  {
   "cell_type": "code",
   "execution_count": 3,
   "metadata": {},
   "outputs": [
    {
     "name": "stdout",
     "output_type": "stream",
     "text": [
      "['5GV0', '1IOU']\n",
      "[0.5 0.4000000059604645]\n"
     ]
    }
   ],
   "source": [
    "task = MyTask(root='task_test', use_precomputed=False, verbosity=1)\n",
    "test_proteins = task.proteins[task.test_index]\n",
    "print([p['protein']['ID'] for p in test_proteins])\n",
    "print(task.test_targets)"
   ]
  },
  {
   "attachments": {},
   "cell_type": "markdown",
   "metadata": {},
   "source": [
    "Tip: If you would like to share your custom tasks and datasets, please feel free to open a [pull request](https://github.com/BorgwardtLab/proteinshake/pulls) on our GitHub repository."
   ]
  }
 ],
 "metadata": {
  "kernelspec": {
   "display_name": "venv",
   "language": "python",
   "name": "python3"
  },
  "language_info": {
   "codemirror_mode": {
    "name": "ipython",
    "version": 3
   },
   "file_extension": ".py",
   "mimetype": "text/x-python",
   "name": "python",
   "nbconvert_exporter": "python",
   "pygments_lexer": "ipython3",
   "version": "3.9.6"
  },
  "orig_nbformat": 4,
  "vscode": {
   "interpreter": {
    "hash": "2a36319596c8b85aa3a33b7572e0064796912a6e6e60d26f47e4d35330b02900"
   }
  }
 },
 "nbformat": 4,
 "nbformat_minor": 2
}
