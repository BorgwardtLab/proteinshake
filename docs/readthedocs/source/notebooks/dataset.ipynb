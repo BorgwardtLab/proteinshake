{
 "cells": [
  {
   "attachments": {},
   "cell_type": "markdown",
   "metadata": {},
   "source": [
    "# Getting started with datasets\n",
    "\n",
    "[<img src=\"https://colab.research.google.com/assets/colab-badge.svg\">](https://colab.research.google.com/github/BorgwardtLab/proteinshake/blob/main/docs/readthedocs/source/notebooks/dataset.ipynb)\n",
    "\n",
    "ProteinShake implements all the steps from raw protein coordinate files (PDB/mmCIF) to training-ready dataset.\n",
    "We also host the result of these computations for several datasets which are listed [here](modules/datasets.rst).\n",
    "\n",
    "You can obtain a dataset ready for model training in one line. \n",
    "\n",
    "Here is an example of how you would get a `torch_geometric.Dataset` object of proteins pulled from the RCSB PDB Data Bank as epsilon graphs."
   ]
  },
  {
   "cell_type": "code",
   "execution_count": 1,
   "metadata": {},
   "outputs": [],
   "source": [
    "from proteinshake.datasets import RCSBDataset\n",
    "\n",
    "# a graph dataset with epsilon-neighborhood graphs with radius 8 Angstrom, in DGL\n",
    "dataset = RCSBDataset(root='./data', verbosity=1).to_graph(eps=8).pyg()"
   ]
  },
  {
   "attachments": {},
   "cell_type": "markdown",
   "metadata": {},
   "source": [
    "The above code executes the three main steps of dataset preparation:\n",
    "\n",
    "1. Loading the processed protein data: `RCSBDataset(root='data')`\n",
    "2. Converting the proteins to your representation of choice: `.to_graph(eps=8)`\n",
    "3. Converting the dataset to your framework of choice: `.pyg()`\n",
    "\n",
    "To reproduce the processing you can pass the `use_precomputed=False` flag to `RCSBDataset()`.\n",
    "This executes all the processing steps locally, whereas by default we try to fetch the dataset from the datasets we host on Zenodo, as the processing can be quite time-consuming.\n",
    "\n",
    "Next, we break down the three steps into some more detail."
   ]
  },
  {
   "attachments": {},
   "cell_type": "markdown",
   "metadata": {},
   "source": [
    "## Loading protein data\n",
    "\n",
    "The first step in the snippet above does most of the leg work.\n",
    "Once the dataset object is created, it holds an iterable of dictionaries, one for each protein in the dataset which is accessed through the `Dataset.proteins()` method."
   ]
  },
  {
   "cell_type": "code",
   "execution_count": 2,
   "metadata": {},
   "outputs": [
    {
     "name": "stdout",
     "output_type": "stream",
     "text": [
      "{'ID': '2NXC', 'sequence': 'MWVYRLKGTLEALDPILPGLFDGGARGLWEREGEVWAFFPAPVDLPYEGVWEEVGDEDWLEAWRRDLKPALAPPFVVLAPWHTWEGAEIPLVIEPGGHHETTRLALKALARHLRPGDKVLDLGTGSGVLAIAAEKLGGKALGVDIDPMVLPQAEANAKRNGVRPRFLEGSLEAALPFGPFDLLVANLYAELHAALAPRYREALVPGGRALLTGILKDRAPLVREAMAGAGFRPLEEAAEGEWVLLAYGR'}\n"
     ]
    }
   ],
   "source": [
    "dataset = RCSBDataset(root='./data', verbosity=1)\n",
    "proteins = dataset.proteins(resolution='residue')\n",
    "print(next(proteins)['protein'])"
   ]
  },
  {
   "attachments": {},
   "cell_type": "markdown",
   "metadata": {},
   "source": [
    "Different implementations of the `Dataset` parent class let you customize this step.\n",
    "For example, the `RCSBDataset` accepts a `from_list` argument which lets you specify which PDBs to fetch."
   ]
  },
  {
   "attachments": {},
   "cell_type": "markdown",
   "metadata": {},
   "source": [
    "## Protein representations\n",
    "\n",
    "Once the processed protein data is in the `Dataset` object we need to convert it to a representation that works with downstream deep learning models.\n",
    "We currently support graphs, point clouds, and voxels."
   ]
  },
  {
   "cell_type": "code",
   "execution_count": 3,
   "metadata": {},
   "outputs": [],
   "source": [
    "point_dataset = dataset.to_point()\n",
    "graph_dataset = dataset.to_graph(eps=8)\n",
    "voxel_dataset = dataset.to_voxel()"
   ]
  },
  {
   "attachments": {},
   "cell_type": "markdown",
   "metadata": {},
   "source": [
    "These methods can be applied to any `Dataset` subclass and perform the necessary computations for the different representations.\n",
    "Some notes on each representation:"
   ]
  },
  {
   "attachments": {},
   "cell_type": "markdown",
   "metadata": {},
   "source": [
    "### Point Clouds\n",
    "\n",
    "Point clouds simply return the x, y, z coordinates of the alpha carbon for each residue.\n",
    "You can finds some relevant processing in the [transforms module](modules/transforms.rst) such as centering and rotating.\n",
    "For example, to center the point clouds:"
   ]
  },
  {
   "cell_type": "code",
   "execution_count": 4,
   "metadata": {},
   "outputs": [],
   "source": [
    "from proteinshake.transforms import CenterTransform\n",
    "\n",
    "points = RCSBDataset(root='./data_transformed', verbosity=1).to_point(transform=CenterTransform())"
   ]
  },
  {
   "attachments": {},
   "cell_type": "markdown",
   "metadata": {},
   "source": [
    "### Graphs\n",
    "\n",
    "Graph construction can be done in two ways: epsilon or k nearest neighbors.\n",
    "The epsilon graph is chosen when `eps` is passed with a distance threshold.\n",
    "All pairs of residues within the distance threshold are connected by an edge.\n",
    "If `k=4` is passed then each residue is connected by an edge to its 4 nearest neighbors."
   ]
  },
  {
   "cell_type": "code",
   "execution_count": 5,
   "metadata": {},
   "outputs": [],
   "source": [
    "knn_graph = dataset.to_graph(k=4)\n",
    "eps_graph = dataset.to_graph(eps=8)"
   ]
  },
  {
   "attachments": {},
   "cell_type": "markdown",
   "metadata": {},
   "source": [
    "You can obtain a weighted graph where weights correspond to the distance between connected residues:"
   ]
  },
  {
   "cell_type": "code",
   "execution_count": 6,
   "metadata": {},
   "outputs": [],
   "source": [
    "eps_graph = dataset.to_graph(eps=8, weighted_edges=True)"
   ]
  },
  {
   "attachments": {},
   "cell_type": "markdown",
   "metadata": {},
   "source": [
    "### Voxels\n",
    "\n",
    "For the voxel representation we place a 3D grid of voxels over the protein and indicate the residue/atom occupancy of voxels with a one-hot encoding of the amino acid or atom types present at the each voxel. You can choose how this embedding is aggregated if multiple residues are in a voxel (`mean` or `sum`):"
   ]
  },
  {
   "cell_type": "code",
   "execution_count": 7,
   "metadata": {},
   "outputs": [],
   "source": [
    "voxel = dataset.to_voxel(voxelsize=10, aggregation='mean')"
   ]
  },
  {
   "attachments": {},
   "cell_type": "markdown",
   "metadata": {},
   "source": [
    "By default, all voxel grids are padded to the largest protein, but by providing the `gridsize` you can fix this to a constant size. Larger proteins will be truncated."
   ]
  }
 ],
 "metadata": {
  "kernelspec": {
   "display_name": "venv",
   "language": "python",
   "name": "python3"
  },
  "language_info": {
   "codemirror_mode": {
    "name": "ipython",
    "version": 3
   },
   "file_extension": ".py",
   "mimetype": "text/x-python",
   "name": "python",
   "nbconvert_exporter": "python",
   "pygments_lexer": "ipython3",
   "version": "3.9.6"
  },
  "orig_nbformat": 4,
  "vscode": {
   "interpreter": {
    "hash": "2a36319596c8b85aa3a33b7572e0064796912a6e6e60d26f47e4d35330b02900"
   }
  }
 },
 "nbformat": 4,
 "nbformat_minor": 2
}
