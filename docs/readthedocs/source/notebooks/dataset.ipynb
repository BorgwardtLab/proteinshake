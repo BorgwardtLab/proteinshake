{
 "cells": [
  {
   "cell_type": "markdown",
   "source": [
    "# Getting started with datasets\n",
    "\n",
    "[<img src=\"https://colab.research.google.com/assets/colab-badge.svg\">](https://colab.research.google.com/github/BorgwardtLab/proteinshake/blob/main/docs/readthedocs/source/notebooks/dataset.ipynb)\n",
    "\n",
    "ProteinShake implements all the steps from raw protein coordinate files (PDB/mmCIF) to training-ready dataset.\n",
    "We also host the result of these computations for several datasets which are listed [here](modules/datasets.rst).\n",
    "\n",
    "You can obtain a dataset ready for model training in one line. \n",
    "\n",
    "Here is an example of how you would get a `torch_geometric.Dataset` object of proteins pulled from the RCSB PDB Data Bank as epsilon graphs."
   ],
   "metadata": {},
   "attachments": {}
  },
  {
   "cell_type": "code",
   "execution_count": 1,
   "source": [
    "# If you are running on colab, uncomment the line below and run the cell to install ProteinShake\n",
    "\n",
    "#!pip install proteinshake"
   ],
   "outputs": [
    {
     "output_type": "stream",
     "name": "stdout",
     "text": [
      "Requirement already satisfied: proteinshake in /Users/mr_k/anaconda3/lib/python3.7/site-packages (0.2.1)\n",
      "Requirement already satisfied: numpy in /Users/mr_k/anaconda3/lib/python3.7/site-packages (from proteinshake) (1.17.4)\n",
      "Requirement already satisfied: biopandas in /Users/mr_k/anaconda3/lib/python3.7/site-packages (from proteinshake) (0.4.1)\n",
      "Requirement already satisfied: requests in /Users/mr_k/anaconda3/lib/python3.7/site-packages (from proteinshake) (2.27.1)\n",
      "Requirement already satisfied: fastavro in /Users/mr_k/anaconda3/lib/python3.7/site-packages (from proteinshake) (1.7.4)\n",
      "Requirement already satisfied: tabulate in /Users/mr_k/anaconda3/lib/python3.7/site-packages (from proteinshake) (0.9.0)\n",
      "Requirement already satisfied: scipy in /Users/mr_k/anaconda3/lib/python3.7/site-packages (from proteinshake) (1.2.1)\n",
      "Requirement already satisfied: scikit-learn in /Users/mr_k/anaconda3/lib/python3.7/site-packages (from proteinshake) (0.21.3)\n",
      "Requirement already satisfied: joblib in /Users/mr_k/anaconda3/lib/python3.7/site-packages (from proteinshake) (0.14.1)\n",
      "Requirement already satisfied: rdkit in /Users/mr_k/anaconda3/lib/python3.7/site-packages (from proteinshake) (2023.3.1)\n",
      "Requirement already satisfied: wget in /Users/mr_k/anaconda3/lib/python3.7/site-packages (from proteinshake) (3.2)\n",
      "Requirement already satisfied: tqdm in /Users/mr_k/anaconda3/lib/python3.7/site-packages (from proteinshake) (4.40.2)\n",
      "Requirement already satisfied: setuptools in /Users/mr_k/anaconda3/lib/python3.7/site-packages (from biopandas->proteinshake) (42.0.2.post20191203)\n",
      "Requirement already satisfied: pandas>=0.24.2 in /Users/mr_k/anaconda3/lib/python3.7/site-packages (from biopandas->proteinshake) (0.25.3)\n",
      "Requirement already satisfied: Pillow in /Users/mr_k/anaconda3/lib/python3.7/site-packages (from rdkit->proteinshake) (6.2.1)\n",
      "Requirement already satisfied: idna<4,>=2.5 in /Users/mr_k/anaconda3/lib/python3.7/site-packages (from requests->proteinshake) (2.8)\n",
      "Requirement already satisfied: urllib3<1.27,>=1.21.1 in /Users/mr_k/anaconda3/lib/python3.7/site-packages (from requests->proteinshake) (1.25.7)\n",
      "Requirement already satisfied: certifi>=2017.4.17 in /Users/mr_k/anaconda3/lib/python3.7/site-packages (from requests->proteinshake) (2020.12.5)\n",
      "Requirement already satisfied: charset-normalizer~=2.0.0 in /Users/mr_k/anaconda3/lib/python3.7/site-packages (from requests->proteinshake) (2.0.12)\n",
      "Requirement already satisfied: python-dateutil>=2.6.1 in /Users/mr_k/anaconda3/lib/python3.7/site-packages (from pandas>=0.24.2->biopandas->proteinshake) (2.8.1)\n",
      "Requirement already satisfied: pytz>=2017.2 in /Users/mr_k/anaconda3/lib/python3.7/site-packages (from pandas>=0.24.2->biopandas->proteinshake) (2019.3)\n",
      "Requirement already satisfied: six>=1.5 in /Users/mr_k/anaconda3/lib/python3.7/site-packages (from python-dateutil>=2.6.1->pandas>=0.24.2->biopandas->proteinshake) (1.13.0)\n",
      "\n",
      "\u001b[1m[\u001b[0m\u001b[34;49mnotice\u001b[0m\u001b[1;39;49m]\u001b[0m\u001b[39;49m A new release of pip available: \u001b[0m\u001b[31;49m22.2.2\u001b[0m\u001b[39;49m -> \u001b[0m\u001b[32;49m23.1.2\u001b[0m\n",
      "\u001b[1m[\u001b[0m\u001b[34;49mnotice\u001b[0m\u001b[1;39;49m]\u001b[0m\u001b[39;49m To update, run: \u001b[0m\u001b[32;49mpip install --upgrade pip\u001b[0m\n"
     ]
    }
   ],
   "metadata": {}
  },
  {
   "cell_type": "code",
   "execution_count": 6,
   "source": [
    "from proteinshake.datasets import RCSBDataset\n",
    "\n",
    "# a graph dataset with epsilon-neighborhood graphs with radius 8 Angstrom, in DGL\n",
    "dataset = RCSBDataset(root='./data', verbosity=1).to_graph(eps=8).pyg()"
   ],
   "outputs": [
    {
     "output_type": "error",
     "ename": "ModuleNotFoundError",
     "evalue": "No module named 'proteinshake'",
     "traceback": [
      "\u001b[0;31m---------------------------------------------------------------------------\u001b[0m",
      "\u001b[0;31mModuleNotFoundError\u001b[0m                       Traceback (most recent call last)",
      "Cell \u001b[0;32mIn[6], line 1\u001b[0m\n\u001b[0;32m----> 1\u001b[0m \u001b[38;5;28;01mfrom\u001b[39;00m \u001b[38;5;21;01mproteinshake\u001b[39;00m\u001b[38;5;21;01m.\u001b[39;00m\u001b[38;5;21;01mdatasets\u001b[39;00m \u001b[38;5;28;01mimport\u001b[39;00m RCSBDataset\n\u001b[1;32m      3\u001b[0m \u001b[38;5;66;03m# a graph dataset with epsilon-neighborhood graphs with radius 8 Angstrom, in DGL\u001b[39;00m\n\u001b[1;32m      4\u001b[0m dataset \u001b[38;5;241m=\u001b[39m RCSBDataset(root\u001b[38;5;241m=\u001b[39m\u001b[38;5;124m'\u001b[39m\u001b[38;5;124m./data\u001b[39m\u001b[38;5;124m'\u001b[39m, verbosity\u001b[38;5;241m=\u001b[39m\u001b[38;5;241m1\u001b[39m)\u001b[38;5;241m.\u001b[39mto_graph(eps\u001b[38;5;241m=\u001b[39m\u001b[38;5;241m8\u001b[39m)\u001b[38;5;241m.\u001b[39mpyg()\n",
      "\u001b[0;31mModuleNotFoundError\u001b[0m: No module named 'proteinshake'"
     ]
    }
   ],
   "metadata": {}
  },
  {
   "cell_type": "markdown",
   "source": [
    "The above code executes the three main steps of dataset preparation:\n",
    "\n",
    "1. Loading the processed protein data: `RCSBDataset(root='data')`\n",
    "2. Converting the proteins to your representation of choice: `.to_graph(eps=8)`\n",
    "3. Converting the dataset to your framework of choice: `.pyg()`\n",
    "\n",
    "To reproduce the processing you can pass the `use_precomputed=False` flag to `RCSBDataset()`.\n",
    "This executes all the processing steps locally, whereas by default we try to fetch the dataset from the datasets we host on Zenodo, as the processing can be quite time-consuming.\n",
    "\n",
    "Next, we break down the three steps into some more detail."
   ],
   "metadata": {},
   "attachments": {}
  },
  {
   "cell_type": "markdown",
   "source": [
    "## Loading protein data\n",
    "\n",
    "The first step in the snippet above does most of the leg work.\n",
    "Once the dataset object is created, it holds an iterable of dictionaries, one for each protein in the dataset which is accessed through the `Dataset.proteins()` method."
   ],
   "metadata": {},
   "attachments": {}
  },
  {
   "cell_type": "code",
   "execution_count": 2,
   "source": [
    "dataset = RCSBDataset(root='./data', verbosity=1)\n",
    "proteins = dataset.proteins(resolution='residue')\n",
    "print(next(proteins)['protein'])"
   ],
   "outputs": [
    {
     "output_type": "stream",
     "name": "stdout",
     "text": [
      "{'ID': '2NXC', 'sequence': 'MWVYRLKGTLEALDPILPGLFDGGARGLWEREGEVWAFFPAPVDLPYEGVWEEVGDEDWLEAWRRDLKPALAPPFVVLAPWHTWEGAEIPLVIEPGGHHETTRLALKALARHLRPGDKVLDLGTGSGVLAIAAEKLGGKALGVDIDPMVLPQAEANAKRNGVRPRFLEGSLEAALPFGPFDLLVANLYAELHAALAPRYREALVPGGRALLTGILKDRAPLVREAMAGAGFRPLEEAAEGEWVLLAYGR'}\n"
     ]
    }
   ],
   "metadata": {}
  },
  {
   "cell_type": "markdown",
   "source": [
    "Different implementations of the `Dataset` parent class let you customize this step.\n",
    "For example, the `RCSBDataset` accepts a `from_list` argument which lets you specify which PDBs to fetch."
   ],
   "metadata": {},
   "attachments": {}
  },
  {
   "cell_type": "markdown",
   "source": [
    "## Protein representations\n",
    "\n",
    "Once the processed protein data is in the `Dataset` object we need to convert it to a representation that works with downstream deep learning models.\n",
    "We currently support graphs, point clouds, and voxels."
   ],
   "metadata": {},
   "attachments": {}
  },
  {
   "cell_type": "code",
   "execution_count": 3,
   "source": [
    "point_dataset = dataset.to_point()\n",
    "graph_dataset = dataset.to_graph(eps=8)\n",
    "voxel_dataset = dataset.to_voxel()"
   ],
   "outputs": [],
   "metadata": {}
  },
  {
   "cell_type": "markdown",
   "source": [
    "These methods can be applied to any `Dataset` subclass and perform the necessary computations for the different representations.\n",
    "Some notes on each representation:"
   ],
   "metadata": {},
   "attachments": {}
  },
  {
   "cell_type": "markdown",
   "source": [
    "### Point Clouds\n",
    "\n",
    "Point clouds simply return the x, y, z coordinates of the alpha carbon for each residue.\n",
    "You can finds some relevant processing in the [transforms module](modules/transforms.rst) such as centering and rotating.\n",
    "For example, to center the point clouds:"
   ],
   "metadata": {},
   "attachments": {}
  },
  {
   "cell_type": "code",
   "execution_count": 4,
   "source": [
    "from proteinshake.transforms import CenterTransform\n",
    "\n",
    "points = RCSBDataset(root='./data_transformed', verbosity=1).to_point(transform=CenterTransform())"
   ],
   "outputs": [],
   "metadata": {}
  },
  {
   "cell_type": "markdown",
   "source": [
    "### Graphs\n",
    "\n",
    "Graph construction can be done in two ways: epsilon or k nearest neighbors.\n",
    "The epsilon graph is chosen when `eps` is passed with a distance threshold.\n",
    "All pairs of residues within the distance threshold are connected by an edge.\n",
    "If `k=4` is passed then each residue is connected by an edge to its 4 nearest neighbors."
   ],
   "metadata": {},
   "attachments": {}
  },
  {
   "cell_type": "code",
   "execution_count": 5,
   "source": [
    "knn_graph = dataset.to_graph(k=4)\n",
    "eps_graph = dataset.to_graph(eps=8)"
   ],
   "outputs": [],
   "metadata": {}
  },
  {
   "cell_type": "markdown",
   "source": [
    "You can obtain a weighted graph where weights correspond to the distance between connected residues:"
   ],
   "metadata": {},
   "attachments": {}
  },
  {
   "cell_type": "code",
   "execution_count": 6,
   "source": [
    "eps_graph = dataset.to_graph(eps=8, weighted_edges=True)"
   ],
   "outputs": [],
   "metadata": {}
  },
  {
   "cell_type": "markdown",
   "source": [
    "### Voxels\n",
    "\n",
    "For the voxel representation we place a 3D grid of voxels over the protein and indicate the residue/atom occupancy of voxels with a one-hot encoding of the amino acid or atom types present at the each voxel. You can choose how this embedding is aggregated if multiple residues are in a voxel (`mean` or `sum`):"
   ],
   "metadata": {},
   "attachments": {}
  },
  {
   "cell_type": "code",
   "execution_count": 7,
   "source": [
    "voxel = dataset.to_voxel(voxelsize=10, aggregation='mean')"
   ],
   "outputs": [],
   "metadata": {}
  },
  {
   "cell_type": "markdown",
   "source": [
    "By default, all voxel grids are padded to the largest protein, but by providing the `gridsize` you can fix this to a constant size. Larger proteins will be truncated."
   ],
   "metadata": {},
   "attachments": {}
  }
 ],
 "metadata": {
  "kernelspec": {
   "name": "python3",
   "display_name": "Python 3.10.6 64-bit"
  },
  "language_info": {
   "codemirror_mode": {
    "name": "ipython",
    "version": 3
   },
   "file_extension": ".py",
   "mimetype": "text/x-python",
   "name": "python",
   "nbconvert_exporter": "python",
   "pygments_lexer": "ipython3",
   "version": "3.10.6"
  },
  "orig_nbformat": 4,
  "vscode": {
   "interpreter": {
    "hash": "2a36319596c8b85aa3a33b7572e0064796912a6e6e60d26f47e4d35330b02900"
   }
  },
  "interpreter": {
   "hash": "631df6fffc57c0ec844262d37e394f46e260bed5f8c07269fabe1e5014606f95"
  }
 },
 "nbformat": 4,
 "nbformat_minor": 2
}